{
  "cells": [
    {
      "cell_type": "markdown",
      "metadata": {
        "id": "view-in-github",
        "colab_type": "text"
      },
      "source": [
        "<a href=\"https://colab.research.google.com/github/chi777/wordle/blob/main/Wordle.ipynb\" target=\"_parent\"><img src=\"https://colab.research.google.com/assets/colab-badge.svg\" alt=\"Open In Colab\"/></a>"
      ]
    },
    {
      "cell_type": "code",
      "execution_count": 18,
      "metadata": {
        "id": "_jMCDxQwn6HW"
      },
      "outputs": [],
      "source": [
        "# Exact calculation of expected number of guesses given even distribution\n",
        "# of solution words"
      ]
    },
    {
      "cell_type": "code",
      "execution_count": 19,
      "metadata": {
        "id": "_nFe1a9dty3D"
      },
      "outputs": [],
      "source": [
        "from collections import Counter\n",
        "import sys\n",
        "import logging\n",
        "from math import log\n",
        "import pandas as pd\n",
        "from functools import lru_cache\n",
        "from os.path import exists\n",
        "import pickle"
      ]
    },
    {
      "cell_type": "code",
      "execution_count": 20,
      "metadata": {
        "id": "rz5c-eeRsaKP"
      },
      "outputs": [],
      "source": [
        "# Get guess and solution word list\n",
        "dir = '/content/drive/MyDrive/ColabData/Wordle/'\n",
        "with open(dir + 'wordlist_solutions.txt') as word_file:\n",
        "  solutions = word_file.read().split()\n",
        "with open(dir + 'wordlist_guesses.txt') as word_file:\n",
        "  guesses = word_file.read().split()"
      ]
    },
    {
      "cell_type": "code",
      "execution_count": 21,
      "metadata": {
        "colab": {
          "base_uri": "https://localhost:8080/"
        },
        "id": "i0WkYE8BJOqF",
        "outputId": "b757bb3a-3fad-4b2c-d36e-26d5457426a1"
      },
      "outputs": [
        {
          "output_type": "stream",
          "name": "stdout",
          "text": [
            "0.4\n"
          ]
        }
      ],
      "source": [
        "# Calculate entropy for distribution\n",
        "def distribution_to_entropy(distribution):\n",
        "  \"\"\"\n",
        "  Takes distribution as list and returns entropy value\n",
        "  \"\"\"\n",
        "  total = sum(distribution)\n",
        "  ent = [log(d,2) * d / total for d in distribution]\n",
        "  return(sum(ent))\n",
        "\n",
        "dist = [1, 1, 1, 2]\n",
        "print(distribution_to_entropy(dist))"
      ]
    },
    {
      "cell_type": "code",
      "execution_count": 22,
      "metadata": {
        "colab": {
          "base_uri": "https://localhost:8080/"
        },
        "id": "Hi-ZJxuoZmVj",
        "outputId": "b935cdca-ec56-4ce1-e927-4b01f61f60d4"
      },
      "outputs": [
        {
          "output_type": "stream",
          "name": "stdout",
          "text": [
            "wwrpw\n"
          ]
        }
      ],
      "source": [
        "def calc_feedback(true_word, test_word):\n",
        "  \"\"\"\n",
        "  Get feedback string for true_word given test_word\n",
        "  \"\"\"\n",
        "  # Set up feedback list\n",
        "  fbl = [None] * 5\n",
        "  # Set up counter for true_word\n",
        "  count = Counter(true_word)\n",
        "  # Check full matches\n",
        "  for i in range(5):\n",
        "    if true_word[i] == test_word[i]:\n",
        "      fbl[i] = 'r'\n",
        "      count[true_word[i]] -= 1\n",
        "  # Check partial matches\n",
        "  for i in range(5):\n",
        "    if fbl[i] != None:\n",
        "      continue\n",
        "    c = test_word[i]\n",
        "    if count[c] > 0:\n",
        "      fbl[i] = 'p'\n",
        "      count[c] -= 1\n",
        "    else:\n",
        "      fbl[i] = 'w'\n",
        "  \n",
        "  return \"\".join(fbl)\n",
        "\n",
        "print(calc_feedback('slump', 'house'))"
      ]
    },
    {
      "cell_type": "code",
      "source": [
        "# Read feedback dict from file, or calculate and save\n",
        "path = dir + 'fb_dict.pkl'\n",
        "if exists(path):\n",
        "  with open(path, 'rb') as file:\n",
        "    fb_dict = pickle.load(file)\n",
        "else:\n",
        "  # Calculate feedback dictionary\n",
        "  fb_dict = {}\n",
        "  for true_word in solutions:\n",
        "    d = {}\n",
        "    for test_word in guesses:\n",
        "      d[test_word] = calc_feedback(true_word, test_word)\n",
        "    fb_dict[true_word] = d\n",
        "  # Save fb_dict\n",
        "  with open(path, 'wb') as file:\n",
        "    pickle.dump(fb_dict, file)"
      ],
      "metadata": {
        "id": "bbfnft1mH7hl"
      },
      "execution_count": 23,
      "outputs": []
    },
    {
      "cell_type": "code",
      "execution_count": 24,
      "metadata": {
        "id": "FXd0nfXUJZ_6"
      },
      "outputs": [],
      "source": [
        "# Calculate test_word entropy for list ot true words\n",
        "def test_word_entropy(true_words, test_word):\n",
        "  feedback_list = [fb_dict[true_word][test_word] for true_word in true_words]\n",
        "  count = Counter(feedback_list)\n",
        "  dist = list(count.values())\n",
        "  return distribution_to_entropy(dist)\n"
      ]
    },
    {
      "cell_type": "code",
      "source": [
        "def test_word_entropies(true_words, test_words):\n",
        "  d = dict()\n",
        "  for test_word in test_words:\n",
        "    d[test_word] = test_word_entropy(true_words, test_word)\n",
        "  df = pd.DataFrame.from_dict(d, orient='index', columns=['Entropy'])\n",
        "  return df\n"
      ],
      "metadata": {
        "id": "FH5OTUYOTnVf"
      },
      "execution_count": 25,
      "outputs": []
    },
    {
      "cell_type": "code",
      "execution_count": 26,
      "metadata": {
        "colab": {
          "base_uri": "https://localhost:8080/"
        },
        "id": "MHIrME2QJjac",
        "outputId": "a07eca4a-01f1-44bf-e9dd-3b9aef031ef9"
      },
      "outputs": [
        {
          "output_type": "stream",
          "name": "stdout",
          "text": [
            "<bound method NDFrame.head of         Entropy\n",
            "soare  5.290836\n",
            "roate  5.294017\n",
            "raise  5.298887\n",
            "raile  5.311087\n",
            "reast  5.311339\n",
            "...         ...\n",
            "yukky  8.971531\n",
            "xylyl  8.984796\n",
            "immix  9.124197\n",
            "jujus  9.138487\n",
            "qajaq  9.284960\n",
            "\n",
            "[12972 rows x 1 columns]>\n",
            "[]\n"
          ]
        }
      ],
      "source": [
        "# Get dataframe of test word entropies\n",
        "path = '/content/drive/MyDrive/ColabData/Wordle/entropies.pkl'\n",
        "if exists(path):\n",
        "  df = pd.read_pickle(path)\n",
        "else:\n",
        "  df = test_word_entropies(solutions, guesses)\n",
        "  df.sort_values(by='Entropy', inplace=True, ascending=True)\n",
        "  pd.DataFrame.to_pickle(df, path)\n",
        "\n",
        "print(df.head)\n",
        "print(list(df['Entropy'][df['Entropy']<1].index))"
      ]
    },
    {
      "cell_type": "code",
      "source": [
        "class Generic_Node:\n",
        "  \"\"\"\n",
        "  Generic search tree node\n",
        "  \"\"\"\n",
        "\n",
        "  def __init__(self, parent, valid_words):\n",
        "    self.parent = parent\n",
        "    self.valid_words = valid_words\n",
        "    self.value = None\n",
        "    self.children = []\n",
        "\n",
        "  def parent_branch(self):\n",
        "    # Text representation of branch that resulted in this node\n",
        "    raise Exception(\"Abstract class\")\n",
        "\n",
        "  def path(self):\n",
        "    # Text representation of path from roor to this node\n",
        "    path = []\n",
        "    node = self\n",
        "    while node:\n",
        "      path.insert(0, node.parent_branch())\n",
        "      node = node.parent\n",
        "    return(str(path))"
      ],
      "metadata": {
        "id": "hQUrecQm0Uqd"
      },
      "execution_count": 27,
      "outputs": []
    },
    {
      "cell_type": "code",
      "execution_count": 60,
      "metadata": {
        "id": "nr3RSY0PoHNu"
      },
      "outputs": [],
      "source": [
        "class Guessing_Node(Generic_Node):\n",
        "  \"\"\"\n",
        "  Represents node in search tree where player has to decide on a guess word\n",
        "  \"\"\"\n",
        "  \n",
        "  def __init__(self, parent, valid_words, pattern, probability):\n",
        "    \"\"\"\n",
        "    Initialize node with list of valid words\n",
        "    \"\"\"\n",
        "    if len(valid_words) <1:\n",
        "      raise Exception(\"No valid words.\")\n",
        "    super().__init__(parent, valid_words)\n",
        "    self.pattern = pattern\n",
        "    self.probability = probability\n",
        "    self.best_guess = None\n",
        "\n",
        "  def search(self):\n",
        "    \"\"\"\n",
        "    Calculate value of expected steps\n",
        "    \"\"\"\n",
        "#    print(self.path())\n",
        "    valid_word_count = len(self.valid_words)\n",
        "\n",
        "    if self.pattern == 'rrrrr':\n",
        "      self.value = 0\n",
        "    elif valid_word_count == 1:\n",
        "      self.value = 1\n",
        "    elif valid_word_count == 2:\n",
        "      self.value = 1.5\n",
        "    else:\n",
        "      # If small number of valid words make sure to check all to go for direct hit\n",
        "      if valid_word_count <= 5:\n",
        "        direct_guesses = self.valid_words\n",
        "      else:\n",
        "        direct_guesses = []\n",
        "      # Use entropy to find best guesses\n",
        "      df_ent = test_word_entropies(self.valid_words, guesses)\n",
        "      df_ent.sort_values(by='Entropy', inplace=True)\n",
        "      entropy_guesses = list(df_ent['Entropy'][0:4].index)\n",
        "      added_guesses = [g for g in entropy_guesses if g not in direct_guesses]\n",
        "      best_guesses = direct_guesses + added_guesses\n",
        "\n",
        "      # Use optimal value as stop condition\n",
        "      optimal_child_value = (valid_word_count - 1) / valid_word_count\n",
        "\n",
        "      for guess in best_guesses:\n",
        "        child = Feedback_Node(self, self.valid_words, guess)\n",
        "        self.children.append(child)\n",
        "        child.search()\n",
        "        if child.value == optimal_child_value:\n",
        "          break\n",
        "      child_values = [c.value for c in self.children]\n",
        "      min_child_value = min(child_values)\n",
        "      self.value = 1 + min_child_value\n",
        "      best_guess = self.children[child_values.index(min_child_value)]\n",
        "\n",
        "  def parent_branch(self):\n",
        "    return '{} {} {:.2f}'.format(self.pattern, len(self.valid_words), \n",
        "                                 self.probability)\n",
        "    \n",
        "  def children_summary(self):\n",
        "    data = {c.guess: c.value for c in self.children}\n",
        "    df = pd.DataFrame.from_dict(data, orient='index', columns=['Value'])\n",
        "    df.sort_values(by='Value', axis=0, ascending =True, inplace=True)\n",
        "    return df"
      ]
    },
    {
      "cell_type": "code",
      "execution_count": 40,
      "metadata": {
        "id": "rtLL_RoJra-N"
      },
      "outputs": [],
      "source": [
        "class Feedback_Node(Generic_Node):\n",
        "  \"\"\"\n",
        "  Represents node in search tree where player entered a guess word and is about\n",
        "  to receive feedback. This is a stochastic step.\n",
        "  \"\"\"\n",
        "  def __init__(self, parent, valid_words, guess):\n",
        "    \"\"\"\n",
        "    Initialize node with list of valid words\n",
        "    \"\"\"\n",
        "    if len(valid_words) < 1:\n",
        "      raise Exception(\"No valid words\")\n",
        "    super().__init__(parent, valid_words)\n",
        "    self.guess = guess\n",
        "\n",
        "  def search(self):\n",
        "    \"\"\"\n",
        "    Calculate value of expected steps\n",
        "    \"\"\"\n",
        "    total_valid = len(self.valid_words)\n",
        "    feedbacks = {w: fb_dict[w][self.guess] for w in self.valid_words}\n",
        "    patterns = {p: [w for w in self.valid_words if feedbacks[w] == p] \n",
        "                for p in set(feedbacks.values())}\n",
        "\n",
        "    # Check that feedback reduced problem to avoid recursion issue\n",
        "    if len(patterns) == 1:\n",
        "      # Only one feedback, dead end, return max float\n",
        "      self.value = sys.float_info.max\n",
        "      return\n",
        "\n",
        "    pattern_probs = {p: len(patterns[p]) / total_valid for p in patterns}\n",
        "    for p in patterns:\n",
        "      child = Guessing_Node(self, patterns[p], p, pattern_probs[p])\n",
        "      self.children.append(child)\n",
        "      child.search()\n",
        "    child_values = [c.value for c in self.children]\n",
        "    self.value = sum([c.probability * c.value for c in self.children])\n",
        "\n",
        "  def parent_branch(self):\n",
        "    return '{}'.format(self.guess)\n",
        "\n",
        "  def children_summary(self):\n",
        "    data = {c.pattern: (len(c.valid_words), c.probability, c.value) \n",
        "                        for c in self.children}\n",
        "    df = pd.DataFrame.from_dict(data, orient='index', \n",
        "                                columns=['Words', 'Probability', 'Value'])\n",
        "    df.sort_values(by='Words', axis=0, ascending =False, inplace=True)\n",
        "    return df"
      ]
    },
    {
      "cell_type": "code",
      "execution_count": 48,
      "metadata": {
        "colab": {
          "base_uri": "https://localhost:8080/"
        },
        "id": "ypvMLN8iwTz7",
        "outputId": "135a09fb-7018-4c1b-a517-c43a4a571e69"
      },
      "outputs": [
        {
          "output_type": "stream",
          "name": "stdout",
          "text": [
            "          Value\n",
            "soare  2.464363\n",
            "roate  2.468251\n"
          ]
        }
      ],
      "source": [
        "# Calculate first guesses\n",
        "path = '/content/drive/MyDrive/ColabData/Wordle/first_guesses.pkl'\n",
        "if exists(path):\n",
        "  first_guesses = pd.read_pickle(path)\n",
        "else:\n",
        "  root = Guessing_Node(None, solutions, '', 1)\n",
        "  root.search()\n",
        "  first_guesses = root.children_summary()\n",
        "  pd.DataFrame.to_pickle(first_guesses, path)\n",
        "\n",
        "print(first_guesses)\n"
      ]
    },
    {
      "cell_type": "code",
      "source": [
        "node = Feedback_Node(None, solutions, 'salet')\n",
        "node.search()\n",
        "print(node.children_summary())"
      ],
      "metadata": {
        "colab": {
          "base_uri": "https://localhost:8080/"
        },
        "id": "Li9nkFP1tkRk",
        "outputId": "f6adf42f-8dc2-44dc-9126-2eb44d76b947"
      },
      "execution_count": 49,
      "outputs": [
        {
          "output_type": "stream",
          "name": "stdout",
          "text": [
            "       Words  Probability     Value\n",
            "wwwww    221     0.095464  2.800905\n",
            "wwwpw    165     0.071274  2.745455\n",
            "wwwrw    107     0.046220  2.850467\n",
            "wpwww    102     0.044060  2.588235\n",
            "wwpww     99     0.042765  2.656566\n",
            "...      ...          ...       ...\n",
            "wprpp      1     0.000432  1.000000\n",
            "prppw      1     0.000432  1.000000\n",
            "prwwr      1     0.000432  1.000000\n",
            "wrrrr      1     0.000432  1.000000\n",
            "rrwwr      1     0.000432  1.000000\n",
            "\n",
            "[148 rows x 3 columns]\n"
          ]
        }
      ]
    },
    {
      "cell_type": "code",
      "source": [
        "node.children_summary()"
      ],
      "metadata": {
        "id": "c8L6fq4tu4Dv",
        "colab": {
          "base_uri": "https://localhost:8080/",
          "height": 419
        },
        "outputId": "24d0032a-4cd0-4192-fa81-55f9d3f05e07"
      },
      "execution_count": 50,
      "outputs": [
        {
          "output_type": "execute_result",
          "data": {
            "text/html": [
              "\n",
              "  <div id=\"df-0abba62b-3ded-4e23-aac3-76ba98ea2d9b\">\n",
              "    <div class=\"colab-df-container\">\n",
              "      <div>\n",
              "<style scoped>\n",
              "    .dataframe tbody tr th:only-of-type {\n",
              "        vertical-align: middle;\n",
              "    }\n",
              "\n",
              "    .dataframe tbody tr th {\n",
              "        vertical-align: top;\n",
              "    }\n",
              "\n",
              "    .dataframe thead th {\n",
              "        text-align: right;\n",
              "    }\n",
              "</style>\n",
              "<table border=\"1\" class=\"dataframe\">\n",
              "  <thead>\n",
              "    <tr style=\"text-align: right;\">\n",
              "      <th></th>\n",
              "      <th>Words</th>\n",
              "      <th>Probability</th>\n",
              "      <th>Value</th>\n",
              "    </tr>\n",
              "  </thead>\n",
              "  <tbody>\n",
              "    <tr>\n",
              "      <th>wwwww</th>\n",
              "      <td>221</td>\n",
              "      <td>0.095464</td>\n",
              "      <td>2.800905</td>\n",
              "    </tr>\n",
              "    <tr>\n",
              "      <th>wwwpw</th>\n",
              "      <td>165</td>\n",
              "      <td>0.071274</td>\n",
              "      <td>2.745455</td>\n",
              "    </tr>\n",
              "    <tr>\n",
              "      <th>wwwrw</th>\n",
              "      <td>107</td>\n",
              "      <td>0.046220</td>\n",
              "      <td>2.850467</td>\n",
              "    </tr>\n",
              "    <tr>\n",
              "      <th>wpwww</th>\n",
              "      <td>102</td>\n",
              "      <td>0.044060</td>\n",
              "      <td>2.588235</td>\n",
              "    </tr>\n",
              "    <tr>\n",
              "      <th>wwpww</th>\n",
              "      <td>99</td>\n",
              "      <td>0.042765</td>\n",
              "      <td>2.656566</td>\n",
              "    </tr>\n",
              "    <tr>\n",
              "      <th>...</th>\n",
              "      <td>...</td>\n",
              "      <td>...</td>\n",
              "      <td>...</td>\n",
              "    </tr>\n",
              "    <tr>\n",
              "      <th>wprpp</th>\n",
              "      <td>1</td>\n",
              "      <td>0.000432</td>\n",
              "      <td>1.000000</td>\n",
              "    </tr>\n",
              "    <tr>\n",
              "      <th>prppw</th>\n",
              "      <td>1</td>\n",
              "      <td>0.000432</td>\n",
              "      <td>1.000000</td>\n",
              "    </tr>\n",
              "    <tr>\n",
              "      <th>prwwr</th>\n",
              "      <td>1</td>\n",
              "      <td>0.000432</td>\n",
              "      <td>1.000000</td>\n",
              "    </tr>\n",
              "    <tr>\n",
              "      <th>wrrrr</th>\n",
              "      <td>1</td>\n",
              "      <td>0.000432</td>\n",
              "      <td>1.000000</td>\n",
              "    </tr>\n",
              "    <tr>\n",
              "      <th>rrwwr</th>\n",
              "      <td>1</td>\n",
              "      <td>0.000432</td>\n",
              "      <td>1.000000</td>\n",
              "    </tr>\n",
              "  </tbody>\n",
              "</table>\n",
              "<p>148 rows × 3 columns</p>\n",
              "</div>\n",
              "      <button class=\"colab-df-convert\" onclick=\"convertToInteractive('df-0abba62b-3ded-4e23-aac3-76ba98ea2d9b')\"\n",
              "              title=\"Convert this dataframe to an interactive table.\"\n",
              "              style=\"display:none;\">\n",
              "        \n",
              "  <svg xmlns=\"http://www.w3.org/2000/svg\" height=\"24px\"viewBox=\"0 0 24 24\"\n",
              "       width=\"24px\">\n",
              "    <path d=\"M0 0h24v24H0V0z\" fill=\"none\"/>\n",
              "    <path d=\"M18.56 5.44l.94 2.06.94-2.06 2.06-.94-2.06-.94-.94-2.06-.94 2.06-2.06.94zm-11 1L8.5 8.5l.94-2.06 2.06-.94-2.06-.94L8.5 2.5l-.94 2.06-2.06.94zm10 10l.94 2.06.94-2.06 2.06-.94-2.06-.94-.94-2.06-.94 2.06-2.06.94z\"/><path d=\"M17.41 7.96l-1.37-1.37c-.4-.4-.92-.59-1.43-.59-.52 0-1.04.2-1.43.59L10.3 9.45l-7.72 7.72c-.78.78-.78 2.05 0 2.83L4 21.41c.39.39.9.59 1.41.59.51 0 1.02-.2 1.41-.59l7.78-7.78 2.81-2.81c.8-.78.8-2.07 0-2.86zM5.41 20L4 18.59l7.72-7.72 1.47 1.35L5.41 20z\"/>\n",
              "  </svg>\n",
              "      </button>\n",
              "      \n",
              "  <style>\n",
              "    .colab-df-container {\n",
              "      display:flex;\n",
              "      flex-wrap:wrap;\n",
              "      gap: 12px;\n",
              "    }\n",
              "\n",
              "    .colab-df-convert {\n",
              "      background-color: #E8F0FE;\n",
              "      border: none;\n",
              "      border-radius: 50%;\n",
              "      cursor: pointer;\n",
              "      display: none;\n",
              "      fill: #1967D2;\n",
              "      height: 32px;\n",
              "      padding: 0 0 0 0;\n",
              "      width: 32px;\n",
              "    }\n",
              "\n",
              "    .colab-df-convert:hover {\n",
              "      background-color: #E2EBFA;\n",
              "      box-shadow: 0px 1px 2px rgba(60, 64, 67, 0.3), 0px 1px 3px 1px rgba(60, 64, 67, 0.15);\n",
              "      fill: #174EA6;\n",
              "    }\n",
              "\n",
              "    [theme=dark] .colab-df-convert {\n",
              "      background-color: #3B4455;\n",
              "      fill: #D2E3FC;\n",
              "    }\n",
              "\n",
              "    [theme=dark] .colab-df-convert:hover {\n",
              "      background-color: #434B5C;\n",
              "      box-shadow: 0px 1px 3px 1px rgba(0, 0, 0, 0.15);\n",
              "      filter: drop-shadow(0px 1px 2px rgba(0, 0, 0, 0.3));\n",
              "      fill: #FFFFFF;\n",
              "    }\n",
              "  </style>\n",
              "\n",
              "      <script>\n",
              "        const buttonEl =\n",
              "          document.querySelector('#df-0abba62b-3ded-4e23-aac3-76ba98ea2d9b button.colab-df-convert');\n",
              "        buttonEl.style.display =\n",
              "          google.colab.kernel.accessAllowed ? 'block' : 'none';\n",
              "\n",
              "        async function convertToInteractive(key) {\n",
              "          const element = document.querySelector('#df-0abba62b-3ded-4e23-aac3-76ba98ea2d9b');\n",
              "          const dataTable =\n",
              "            await google.colab.kernel.invokeFunction('convertToInteractive',\n",
              "                                                     [key], {});\n",
              "          if (!dataTable) return;\n",
              "\n",
              "          const docLinkHtml = 'Like what you see? Visit the ' +\n",
              "            '<a target=\"_blank\" href=https://colab.research.google.com/notebooks/data_table.ipynb>data table notebook</a>'\n",
              "            + ' to learn more about interactive tables.';\n",
              "          element.innerHTML = '';\n",
              "          dataTable['output_type'] = 'display_data';\n",
              "          await google.colab.output.renderOutput(dataTable, element);\n",
              "          const docLink = document.createElement('div');\n",
              "          docLink.innerHTML = docLinkHtml;\n",
              "          element.appendChild(docLink);\n",
              "        }\n",
              "      </script>\n",
              "    </div>\n",
              "  </div>\n",
              "  "
            ],
            "text/plain": [
              "       Words  Probability     Value\n",
              "wwwww    221     0.095464  2.800905\n",
              "wwwpw    165     0.071274  2.745455\n",
              "wwwrw    107     0.046220  2.850467\n",
              "wpwww    102     0.044060  2.588235\n",
              "wwpww     99     0.042765  2.656566\n",
              "...      ...          ...       ...\n",
              "wprpp      1     0.000432  1.000000\n",
              "prppw      1     0.000432  1.000000\n",
              "prwwr      1     0.000432  1.000000\n",
              "wrrrr      1     0.000432  1.000000\n",
              "rrwwr      1     0.000432  1.000000\n",
              "\n",
              "[148 rows x 3 columns]"
            ]
          },
          "metadata": {},
          "execution_count": 50
        }
      ]
    },
    {
      "cell_type": "code",
      "source": [
        "def create_filter(test_word, feedback):\n",
        "  \"\"\"\n",
        "  Takes a word and the corresponding Wordle feedback, and created a function\n",
        "  that checks if a true word is consitent with this feedback\n",
        "  word is a 5 character string, and feedback is a 5 character string with\n",
        "  r = right, p = partial, w = wrong\n",
        "  \"\"\"\n",
        "  def is_valid(true_word):\n",
        "    return (feedback == fb_dict[true_word][test_word])\n",
        "\n",
        "  return is_valid"
      ],
      "metadata": {
        "id": "EGm4C19DzBwH"
      },
      "execution_count": 51,
      "outputs": []
    },
    {
      "cell_type": "code",
      "source": [
        "feedback = [\n",
        "            ('soare', 'wwpww')\n",
        "            #,('girsh', 'wpwww')\n",
        "            #,('focus', 'wrrwr')\n",
        "]\n",
        "valid = solutions\n",
        "for i in feedback:\n",
        "  f = create_filter(i[0], i[1])\n",
        "  valid = list(filter(f, valid))\n",
        "  print(len(valid))\n",
        "  print(valid)"
      ],
      "metadata": {
        "colab": {
          "base_uri": "https://localhost:8080/"
        },
        "id": "Gk8pROT_E7Hv",
        "outputId": "1e0a11c8-e268-48ec-ded1-cbe5ca60602d"
      },
      "execution_count": 53,
      "outputs": [
        {
          "output_type": "stream",
          "name": "stdout",
          "text": [
            "138\n",
            "['naval', 'batty', 'maxim', 'audit', 'gamma', 'hatch', 'jaunt', 'badly', 'gaudy', 'vital', 'banal', 'tangy', 'panic', 'caulk', 'pupal', 'tacit', 'watch', 'natal', 'canny', 'album', 'awful', 'gawky', 'gaily', 'lilac', 'madam', 'wacky', 'aphid', 'patty', 'taunt', 'tibia', 'alpha', 'admit', 'dandy', 'valid', 'catch', 'fault', 'waltz', 'aptly', 'fanny', 'vault', 'daddy', 'aging', 'pagan', 'human', 'manga', 'final', 'nanny', 'handy', 'ninja', 'annul', 'aping', 'mania', 'inlay', 'lanky', 'china', 'caddy', 'amply', 'magic', 'macaw', 'candy', 'gayly', 'dally', 'tatty', 'laugh', 'aunty', 'cavil', 'cabin', 'fatty', 'fancy', 'villa', 'gaunt', 'mafia', 'vapid', 'tubal', 'align', 'datum', 'apply', 'bylaw', 'iliac', 'pizza', 'baggy', 'mammy', 'kappa', 'amity', 'faint', 'haunt', 'bawdy', 'latch', 'tawny', 'tidal', 'gamut', 'canal', 'paint', 'balmy', 'manic', 'cacti', 'tacky', 'patch', 'admin', 'tabby', 'tally', 'caput', 'habit', 'jazzy', 'fatal', 'titan', 'taffy', 'axial', 'daily', 'papal', 'avian', 'paddy', 'affix', 'taint', 'yacht', 'cabal', 'kayak', 'allay', 'mamma', 'antic', 'cabby', 'batch', 'anvil', 'madly', 'magma', 'fauna', 'happy', 'alibi', 'junta', 'daunt', 'mangy', 'attic', 'manly', 'vaunt', 'faith', 'match', 'catty', 'adult']\n"
          ]
        }
      ]
    },
    {
      "cell_type": "code",
      "execution_count": 76,
      "metadata": {
        "id": "Gbt-MEOUUAN9",
        "colab": {
          "base_uri": "https://localhost:8080/"
        },
        "outputId": "54dffeaf-534d-4d96-d789-176a7b157625"
      },
      "outputs": [
        {
          "output_type": "stream",
          "name": "stdout",
          "text": [
            "68\n",
            "['panel', 'delta', 'lapel', 'kebab', 'enema', 'cheat', 'abbey', 'pleat', 'ahead', 'fella', 'metal', 'alien', 'glean', 'label', 'eclat', 'equal', 'valet', 'laden', 'decay', 'clean', 'eaten', 'matey', 'hazel', 'alley', 'delay', 'ideal', 'haven', 'gavel', 'fecal', 'theta', 'amend', 'begat', 'penal', 'adept', 'medal', 'bleak', 'cheap', 'media', 'waxen', 'decal', 'pedal', 'bleat', 'cleat', 'facet', 'navel', 'agent', 'annex', 'bagel', 'abled', 'legal', 'began', 'taken', 'hyena', 'camel', 'angel', 'petal', 'fetal', 'cadet', 'apnea', 'tweak', 'wheat', 'gleam', 'cagey', 'pecan', 'plead', 'vegan', 'knead', 'mecca']\n",
            "4\n",
            "['abbey', 'theta', 'adept', 'media']\n",
            "1\n",
            "['abbey']\n",
            "Empty DataFrame\n",
            "Columns: [Value]\n",
            "Index: []\n"
          ]
        }
      ],
      "source": [
        "feedback = [\n",
        "            ('soare', 'wwpwp')\n",
        "            ,('canal', 'wpwww')\n",
        "            ,('theta', 'wwpwp')\n",
        "]\n",
        "valid = solutions\n",
        "for i in feedback:\n",
        "  f = create_filter(i[0], i[1])\n",
        "  valid = list(filter(f, valid))\n",
        "  print(len(valid))\n",
        "  print(valid)\n",
        "\n",
        "root = Guessing_Node(None, valid, '', 1)\n",
        "root.search()\n",
        "print(root.children_summary())"
      ]
    },
    {
      "cell_type": "code",
      "source": [
        "print(fb_dict['abbey']['soare'])\n",
        "print(fb_dict['abbey']['canal'])\n",
        "print(fb_dict['abbey']['theta'])"
      ],
      "metadata": {
        "id": "dQybmA_ggHaY",
        "colab": {
          "base_uri": "https://localhost:8080/"
        },
        "outputId": "b2d4b7c4-4097-4205-e924-0affb5d515ee"
      },
      "execution_count": 75,
      "outputs": [
        {
          "output_type": "stream",
          "name": "stdout",
          "text": [
            "wwpwp\n",
            "wpwww\n",
            "wwpwp\n"
          ]
        }
      ]
    }
  ],
  "metadata": {
    "colab": {
      "name": "Wordle.ipynb",
      "provenance": [],
      "collapsed_sections": [],
      "mount_file_id": "1jbwKivrYWWz8lsUM4UoaIrdBia80T8jW",
      "authorship_tag": "ABX9TyN0nwWvgQHAO1nKrSp6GMQj",
      "include_colab_link": true
    },
    "kernelspec": {
      "display_name": "Python 3",
      "name": "python3"
    },
    "language_info": {
      "name": "python"
    }
  },
  "nbformat": 4,
  "nbformat_minor": 0
}